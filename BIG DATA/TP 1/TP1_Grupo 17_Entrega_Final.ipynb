{
 "cells": [
  {
   "cell_type": "markdown",
   "metadata": {
    "collapsed": true,
    "id": "Dh8MkXaG-c9Y",
    "jupyter": {
     "outputs_hidden": true
    }
   },
   "source": [
    "# Big Data y Machine Learning (UBA) -  2025\n",
    "\n",
    "## Trabajo Práctico 1: Jugando con APIs y WebScraping "
   ]
  },
  {
   "cell_type": "markdown",
   "metadata": {
    "id": "RhBlm6mZ-c9e"
   },
   "source": [
    "### Reglas de formato y presentación\n",
    "- El trabajo debe estar debidamente documentado comentado (utilizando #) para que tanto los docentes como sus compañeros puedan comprender el código fácilmente.\n",
    "\n",
    "- El mismo debe ser completado en este Jupyter Notebook y entregado como tal, es decir en un archivo .ipynb\n"
   ]
  },
  {
   "cell_type": "markdown",
   "metadata": {
    "id": "ZEjGaa4U-c9g"
   },
   "source": [
    "### Fecha de entrega:\n",
    "Viernes 4 de Abril a las 13:00 hs"
   ]
  },
  {
   "cell_type": "markdown",
   "metadata": {
    "id": "N9TU2y7E-c9h"
   },
   "source": [
    "### Modalidad de entrega\n",
    "- Al finalizar el trabajo práctico deben hacer un último <i>commit</i> en su repositorio de GitHub llamado “Entrega final del tp”. \n",
    "- Asegurense de haber creado una carpeta llamada TP1. Este Jupyter Notebook y el correspondiente al TP1 deben estar dentro de esa carpeta.\n",
    "- También deben enviar el link de su repositorio -para que pueda ser clonado y corregido- a mi correo 25RO35480961@campus.economicas.uba.ar. Usar de asunto de email <i>\"Big Data - TP 1 - Grupo #\"</i> y nombrar el archivo <i>\"TP1_Grupo #\"</i> donde # es el número de grupo que le fue asignado.\n",
    "- La última versión en el repositorio es la que será evaluada. Por lo que es importante que: \n",
    "    - No envien el correo hasta no haber terminado y estar seguros de que han hecho el <i>commit y push</i> a la versión final que quieren entregar. \n",
    "    - No hagan nuevos <i>push</i> despues de haber entregado su versión final. Esto generaría confusión acerca de que versión es la que quieren que se les corrija.\n",
    "- En resumen, la carpeta del repositorio debe incluir:\n",
    "    - El codigo\n",
    "    - Un documento Word (Parte A) donde esten las figuras y una breve descripción de las mismas.\n",
    "    - El excel con los links webscrappeados (Parte B)"
   ]
  },
  {
   "cell_type": "markdown",
   "metadata": {},
   "source": [
    "### Parte A"
   ]
  },
  {
   "cell_type": "markdown",
   "metadata": {
    "id": "ZXbrPraa-c9i"
   },
   "source": [
    "#### Ejercicio 1 - Jugando con APIs\n",
    "Usando la API del Banco Mundial [link](https://wbdata.readthedocs.io/en/stable/) , obtener dos series de indicadores para dos paises a elección en una consulta de búsqueda. Pueden buscar serie de indicadores de su interés."
   ]
  },
  {
   "cell_type": "code",
   "execution_count": 3,
   "metadata": {
    "scrolled": true
   },
   "outputs": [
    {
     "name": "stdout",
     "output_type": "stream",
     "text": [
      "                 Pais  SDR Holdings    Reservas Proporcion\n",
      "Fecha                                                     \n",
      "2024Q1      Argentina      0.885488   22.741634      3.89%\n",
      "2023Q1      Argentina      5.052850   35.142855     14.38%\n",
      "2022Q1      Argentina      6.781493   39.277010     17.27%\n",
      "2021Q1      Argentina      1.023045   36.052663      2.84%\n",
      "2020Q1      Argentina      2.195423   40.534171      5.42%\n",
      "2019Q1      Argentina      3.322444   63.774752      5.21%\n",
      "2018Q1      Argentina      2.595021   59.691431      4.35%\n",
      "2017Q1      Argentina      2.422539   48.573454      4.99%\n",
      "2016Q1      Argentina      2.892431   27.093731     10.68%\n",
      "2015Q1      Argentina      2.832241   29.113711      9.73%\n",
      "2014Q1      Argentina      3.173320   24.424020     12.99%\n",
      "2013Q1      Argentina      3.077965   37.232931      8.27%\n",
      "2012Q1      Argentina      3.180376   43.964389      7.23%\n",
      "2011Q1      Argentina      3.206186   48.827608      6.57%\n",
      "2010Q1      Argentina      3.070181   45.497808      6.75%\n",
      "2009Q1      Argentina      0.479431   44.930610      1.07%\n",
      "2008Q1      Argentina      0.527296   48.806257      1.08%\n",
      "2007Q1      Argentina      0.484119   35.650934      1.36%\n",
      "2006Q1      Argentina      0.276706   20.524607      1.35%\n",
      "2005Q1      Argentina      2.466374   19.586585     12.59%\n",
      "2004Q1      Argentina      1.248966   14.627449      8.54%\n",
      "2003Q1      Argentina      1.099551   10.539015     10.43%\n",
      "2002Q1      Argentina      0.003954   12.816768      0.03%\n",
      "2001Q1      Argentina      0.267580   21.919370      1.22%\n",
      "2000Q1      Argentina      0.010822   24.574342      0.04%\n",
      "2024Q1  United States    166.269211  232.761249     71.43%\n",
      "2023Q1  United States    163.241100  235.948842     69.18%\n",
      "2022Q1  United States    163.131128  237.182459     68.78%\n",
      "2021Q1  United States     52.102119  128.007032      40.7%\n",
      "2020Q1  United States     50.135686  116.868993      42.9%\n",
      "2019Q1  United States     50.766322  114.133956     44.48%\n",
      "2018Q1  United States     52.978992  115.331272     45.94%\n",
      "2017Q1  United States     49.348517  107.752411      45.8%\n",
      "2016Q1  United States     50.517997  108.685641     46.48%\n",
      "2015Q1  United States     49.458684  108.228545      45.7%\n",
      "2014Q1  United States     55.393680  133.243235     41.57%\n",
      "2013Q1  United States     53.704060  135.287629      39.7%\n",
      "2012Q1  United States     55.460316  138.036819     40.18%\n",
      "2011Q1  United States     56.542519  128.273515     44.08%\n",
      "2010Q1  United States     55.996129  116.479700     48.07%\n",
      "2009Q1  United States      9.081659   63.916510     14.21%\n",
      "2008Q1  United States      9.892011   64.723076     15.28%\n",
      "2007Q1  United States      8.947505   55.509569     16.12%\n",
      "2006Q1  United States      8.343573   54.310823     15.36%\n",
      "2005Q1  United States     11.564728   67.901094     17.03%\n",
      "2004Q1  United States     12.690947   74.146635     17.12%\n",
      "2003Q1  United States     11.392424   69.006267     16.51%\n",
      "2002Q1  United States     10.808820   56.529386     19.12%\n",
      "2001Q1  United States     10.378720   53.175327     19.52%\n",
      "2000Q1  United States     10.335324   59.741053      17.3%\n",
      "---------------------------\n"
     ]
    },
    {
     "name": "stderr",
     "output_type": "stream",
     "text": [
      "C:\\Users\\andre\\AppData\\Local\\Temp\\ipykernel_13036\\3302339529.py:30: SettingWithCopyWarning: \n",
      "A value is trying to be set on a copy of a slice from a DataFrame.\n",
      "Try using .loc[row_indexer,col_indexer] = value instead\n",
      "\n",
      "See the caveats in the documentation: https://pandas.pydata.org/pandas-docs/stable/user_guide/indexing.html#returning-a-view-versus-a-copy\n",
      "  df['Proporcion'] = (df['SDR Holdings']/df['Reservas'] * 100).round(2)\n",
      "C:\\Users\\andre\\AppData\\Local\\Temp\\ipykernel_13036\\3302339529.py:31: SettingWithCopyWarning: \n",
      "A value is trying to be set on a copy of a slice from a DataFrame.\n",
      "Try using .loc[row_indexer,col_indexer] = value instead\n",
      "\n",
      "See the caveats in the documentation: https://pandas.pydata.org/pandas-docs/stable/user_guide/indexing.html#returning-a-view-versus-a-copy\n",
      "  df['Proporcion'] = df['Proporcion'].astype(str) + '%'\n"
     ]
    }
   ],
   "source": [
    "import numpy as np\n",
    "import wbdata\n",
    "import pandas as pd\n",
    "import matplotlib.pyplot as plt\n",
    "\n",
    "# A.1:\n",
    "# Joint External Debt Hub de WBdata. Vamos a estar comparando los SDR Holdings de ambos paises y qué porcentaje /\n",
    "# ocupan en las reservas de sus bancos centrales (Excluyendo el oro).\n",
    "indicadores = {'Q.1C0.1C0.D.9B.MOA.SDHO.1.ALL.MV.SDR.IFI': \"SDR Holdings\",\n",
    "               'Q.1C0.1C0.C.9A.MOA.RXGT.1.ALL.MV.TO1.ALL': \"Reservas\"}\n",
    "# Las \"SDR holdings\" indican la cantidad de DEG (Derechos Especiales de Giro) que posee una entidad, generalmente un /\n",
    "# banco central, como parte de sus reservas internacionales. Esto sirve como una herramienta para complementar las reservas /\n",
    "# y ayudar a estabilizar la balanza de pagos.\n",
    "\n",
    "\n",
    "data = wbdata.get_dataframe(indicadores, country=['USA', 'ARG'])\n",
    "\n",
    "# Todas las unidades estan expresadas en mil millones de dólares.\n",
    "data = data / 1000000000\n",
    "\n",
    "dataf = pd.DataFrame(data=data)\n",
    "\n",
    "dataf.reset_index(inplace=True)\n",
    "dataf = dataf.set_index('date')\n",
    "dataf.index.name = \"Fecha\"\n",
    "\n",
    "df = dataf[dataf.index.astype(str).str.contains(\n",
    "    \"Q1\") & dataf.index.astype(str).str.contains(\"20\")]\n",
    "# Analizamos a partir del 2000, el primer trimestre de cada año.\n",
    "df['Proporcion'] = (df['SDR Holdings']/df['Reservas'] * 100).round(2)\n",
    "df['Proporcion'] = df['Proporcion'].astype(str) + '%'\n",
    "# Porcentaje de SDR Holdings en las reservas del banco central.\n",
    "\n",
    "df = df.rename(columns={\"country\": \"Pais\"})\n",
    "\n",
    "print(df)\n",
    "print(\"---------------------------\")\n"
   ]
  },
  {
   "cell_type": "markdown",
   "metadata": {},
   "source": [
    "#### Ejercicio 2 - Repaso de Pandas\n",
    "Realicen una estadistica descriptiva de ambas series de indicadores comparando los dos países."
   ]
  },
  {
   "cell_type": "code",
   "execution_count": 5,
   "metadata": {},
   "outputs": [
    {
     "name": "stdout",
     "output_type": "stream",
     "text": [
      "Media de las reservas de Argentina: 34.237\n",
      "Media de las reservas de U.S.A: 111.007\n",
      "Media de los SDR Holdings de Argentina: 2.103\n",
      "Media de los SDR Holdings de U.S.A: 49.139\n",
      "Mediana de las reservas de Argentina: 35.651\n",
      "Mediana de las reservas de U.S.A: 108.686\n",
      "Mediana de los SDR Holdings de Argentina: 2.423\n",
      "Mediana de los SDR Holdings de U.S.A: 50.136\n",
      "El desvio de las reservas de U.S.A es: 55.32\n",
      "El desvio de las reservas de ARG es: 14.326\n",
      "El desvio de los SDR Holdings de ARG es: 1.668\n",
      "El desvio de los SDR Holdings de U.S.A es: 47.885\n"
     ]
    }
   ],
   "source": [
    "df_arg = df[df['Pais'] == 'Argentina']\n",
    "df_usa = df[df['Pais'] == 'United States']\n",
    "\n",
    "media_reservas_arg = np.mean(df_arg['Reservas']).round(3)\n",
    "media_reservas_usa = np.mean(df_usa['Reservas']).round(3)\n",
    "print(f'Media de las reservas de Argentina: {media_reservas_arg}')\n",
    "print(f'Media de las reservas de U.S.A: {media_reservas_usa}')\n",
    "\n",
    "media_sdrholdings_arg = np.mean(df_arg['SDR Holdings']).round(3)\n",
    "media_sdrholdings_usa = np.mean(df_usa['SDR Holdings']).round(3)\n",
    "print(f'Media de los SDR Holdings de Argentina: {media_sdrholdings_arg}')\n",
    "print(f'Media de los SDR Holdings de U.S.A: {media_sdrholdings_usa}')\n",
    "\n",
    "\n",
    "mediana_reservas_arg = np.median(df_arg['Reservas']).round(3)\n",
    "mediana_reservas_usa = np.median(df_usa['Reservas']).round(3)\n",
    "print(f'Mediana de las reservas de Argentina: {mediana_reservas_arg}')\n",
    "print(f'Mediana de las reservas de U.S.A: {mediana_reservas_usa}')\n",
    "\n",
    "mediana_sdrholdings_arg = np.median(df_arg['SDR Holdings']).round(3)\n",
    "mediana_sdrholdings_usa = np.median(df_usa['SDR Holdings']).round(3)\n",
    "print(f'Mediana de los SDR Holdings de Argentina: {mediana_sdrholdings_arg}')\n",
    "print(f'Mediana de los SDR Holdings de U.S.A: {mediana_sdrholdings_usa}')\n",
    "\n",
    "varianza_res_usa = np.var(df_usa[\"Reservas\"], ddof=1)\n",
    "varianza_res_arg = np.var(df_arg[\"Reservas\"], ddof=1)\n",
    "desvio_res_usa = np.sqrt(varianza_res_usa).round(3)\n",
    "desvio_res_arg = np.sqrt(varianza_res_arg).round(3)\n",
    "print(f'El desvio de las reservas de U.S.A es: {desvio_res_usa}')\n",
    "print(f'El desvio de las reservas de ARG es: {desvio_res_arg}')\n",
    "\n",
    "varianza_sdr_usa = np.var(df_usa[\"SDR Holdings\"], ddof=1)\n",
    "varianza_sdr_arg = np.var(df_arg[\"SDR Holdings\"], ddof=1)\n",
    "desvio_sdr_usa = np.sqrt(varianza_sdr_usa).round(3)\n",
    "desvio_sdr_arg = np.sqrt(varianza_sdr_arg).round(3)\n",
    "print(f'El desvio de los SDR Holdings de ARG es: {desvio_sdr_arg}')\n",
    "print(f'El desvio de los SDR Holdings de U.S.A es: {desvio_sdr_usa}')\n"
   ]
  },
  {
   "cell_type": "markdown",
   "metadata": {},
   "source": [
    "#### Ejercicio 3 - Practicando con Matplotlib\n",
    "Armen dos gráficos distintos usando la librería Matplotlib (repasen Clase 4). Uno programandolo con el estilo *pyplot* y otro gráfico de estilo *orientada a objetos*"
   ]
  },
  {
   "cell_type": "code",
   "execution_count": 7,
   "metadata": {},
   "outputs": [
    {
     "data": {
      "image/png": "[encoded data removed]",
      "text/plain": [
       "<Figure size 640x480 with 1 Axes>"
      ]
     },
     "metadata": {},
     "output_type": "display_data"
    }
   ],
   "source": [
    "df_reset = (df.groupby(by=[\"Fecha\", \"Pais\"]).agg(\n",
    "    {\"SDR Holdings\": \"sum\"})).reset_index()\n",
    "df_2008_2012 = df_reset.iloc[16:26] #Seleccionamos desde el 2008 hasta el 2012\n",
    "df_arg2 = df_2008_2012[df_2008_2012['Pais'] == \"Argentina\"]\n",
    "df_usa2 = df_2008_2012[df_2008_2012['Pais'] == \"United States\"]\n",
    "\n",
    "x1 = df_arg2['Fecha'] #Definimos las variables\n",
    "y1 = df_arg2['SDR Holdings']\n",
    "x2 = df_usa2['Fecha']\n",
    "y2 = df_usa2['SDR Holdings'] \n",
    "\n",
    "plt.plot(x1, y1, label=\"Argentina\")\n",
    "plt.plot(x2, y2, label=\"Estados Unidos\")\n",
    "\n",
    "plt.xlabel(\"Año\")\n",
    "plt.ylabel(\"SDR Holdings (En miles de millones)\")\n",
    "plt.title('SDR Holdings antes y tras la \"\"Crisis Subprime\"')\n",
    "\n",
    "plt.legend()\n",
    "plt.grid(True) #Aplicamos una grilla\n",
    "plt.show()\n"
   ]
  },
  {
   "cell_type": "code",
   "execution_count": 9,
   "metadata": {},
   "outputs": [
    {
     "data": {
      "image/png": "[encoded data removed]",
      "text/plain": [
       "<Figure size 640x480 with 1 Axes>"
      ]
     },
     "metadata": {},
     "output_type": "display_data"
    }
   ],
   "source": [
    "df_2009 = df[df.index.astype(str).str.contains(\n",
    "    \"2010Q1\")].reset_index().set_index([\"Fecha\", \"Pais\"]) #Reseteamos index y lo definimos para \"Fecha\" y \"País\"\n",
    "ax = df_2009.plot(\n",
    "    kind='bar', title=\"SDR Holdings en Reservas (Sin oro) del BCRA\")\n",
    "ax.set_xlabel('País-Año', color='grey')\n",
    "ax.set_ylabel('Cantidad (En miles de millones)', color='grey') #Definimos las variables\n",
    "ax.tick_params(axis=\"x\", rotation=0)\n",
    "ax.legend([\"SDR Holdings\", \"Reservas\"])\n",
    "plt.show()\n"
   ]
  },
  {
   "cell_type": "markdown",
   "metadata": {},
   "source": [
    "### Parte B"
   ]
  },
  {
   "cell_type": "markdown",
   "metadata": {},
   "source": [
    "#### Ejercicio 4\n",
    "De la página de noticias del [diario La Nación](https://www.lanacion.com.ar/) o cualquier diario que les interese, utilicen herramientas de web scraping para obtener los **links** de las noticias de la portada. Guarden los links obtenidos en un dataframe y expórtenlo a un archivo de excel.\n",
    "\n",
    "Nota 1: es posible que logren obtener los links a las noticias sin el dominio: \"https://www.lanacion.com.ar/\". De ser así, concatenen el dominio a la ruta del link obtenido, tal que se obtenga un link al que se pueda acceder. Es decir, que las cadenas de caracteres finales tendrán la forma: https://www.lanacion.com.ar/*texto_obtenido*)\n",
    "\n",
    "Nota 2: junto con su entrega, adjunten una captura de la página de noticias al momento de correr su código. Eso servirá al momento de la corrección para verificar que los links obtenidos hacen referencia a las noticias de ese día y hora."
   ]
  },
  {
   "cell_type": "code",
   "execution_count": 13,
   "metadata": {},
   "outputs": [
    {
     "data": {
      "text/html": [
       "<div>\n",
       "<style scoped>\n",
       "    .dataframe tbody tr th:only-of-type {\n",
       "        vertical-align: middle;\n",
       "    }\n",
       "\n",
       "    .dataframe tbody tr th {\n",
       "        vertical-align: top;\n",
       "    }\n",
       "\n",
       "    .dataframe thead th {\n",
       "        text-align: right;\n",
       "    }\n",
       "</style>\n",
       "<table border=\"1\" class=\"dataframe\">\n",
       "  <thead>\n",
       "    <tr style=\"text-align: right;\">\n",
       "      <th></th>\n",
       "      <th>Links</th>\n",
       "    </tr>\n",
       "  </thead>\n",
       "  <tbody>\n",
       "    <tr>\n",
       "      <th>0</th>\n",
       "      <td>https://www.eldestapeweb.com/internacionales/e...</td>\n",
       "    </tr>\n",
       "    <tr>\n",
       "      <th>1</th>\n",
       "      <td>https://www.eldestapeweb.com/politica/escandal...</td>\n",
       "    </tr>\n",
       "    <tr>\n",
       "      <th>2</th>\n",
       "      <td>https://www.eldestapeweb.com/politica/marcha-j...</td>\n",
       "    </tr>\n",
       "    <tr>\n",
       "      <th>3</th>\n",
       "      <td>https://www.eldestapeweb.com/politica/paro/san...</td>\n",
       "    </tr>\n",
       "    <tr>\n",
       "      <th>4</th>\n",
       "      <td>https://www.eldestapeweb.com/economia/crisis-e...</td>\n",
       "    </tr>\n",
       "    <tr>\n",
       "      <th>...</th>\n",
       "      <td>...</td>\n",
       "    </tr>\n",
       "    <tr>\n",
       "      <th>109</th>\n",
       "      <td>https://www.eldestapeweb.com/internacionales/e...</td>\n",
       "    </tr>\n",
       "    <tr>\n",
       "      <th>110</th>\n",
       "      <td>https://www.eldestapeweb.com/sociedad/jubilado...</td>\n",
       "    </tr>\n",
       "    <tr>\n",
       "      <th>111</th>\n",
       "      <td>https://www.eldestapeweb.com/cultura/folklore/...</td>\n",
       "    </tr>\n",
       "    <tr>\n",
       "      <th>112</th>\n",
       "      <td>https://www.eldestapeweb.com/deportes/julian-a...</td>\n",
       "    </tr>\n",
       "    <tr>\n",
       "      <th>113</th>\n",
       "      <td>https://www.eldestapeweb.com/sociedad/malvinas...</td>\n",
       "    </tr>\n",
       "  </tbody>\n",
       "</table>\n",
       "<p>114 rows × 1 columns</p>\n",
       "</div>"
      ],
      "text/plain": [
       "                                                 Links\n",
       "0    https://www.eldestapeweb.com/internacionales/e...\n",
       "1    https://www.eldestapeweb.com/politica/escandal...\n",
       "2    https://www.eldestapeweb.com/politica/marcha-j...\n",
       "3    https://www.eldestapeweb.com/politica/paro/san...\n",
       "4    https://www.eldestapeweb.com/economia/crisis-e...\n",
       "..                                                 ...\n",
       "109  https://www.eldestapeweb.com/internacionales/e...\n",
       "110  https://www.eldestapeweb.com/sociedad/jubilado...\n",
       "111  https://www.eldestapeweb.com/cultura/folklore/...\n",
       "112  https://www.eldestapeweb.com/deportes/julian-a...\n",
       "113  https://www.eldestapeweb.com/sociedad/malvinas...\n",
       "\n",
       "[114 rows x 1 columns]"
      ]
     },
     "execution_count": 13,
     "metadata": {},
     "output_type": "execute_result"
    }
   ],
   "source": [
    "# Importamos las librerías necesarias\n",
    "import requests\n",
    "from bs4 import BeautifulSoup\n",
    "import pandas as pd\n",
    "\n",
    "# URL de la página de El Destape\n",
    "url = \"https://www.eldestapeweb.com/\"\n",
    "\n",
    "# Hacemos la solicitud a la página para traiga el contenido del HTML\n",
    "r = requests.get(url)\n",
    "contenido = r.content\n",
    "soup = BeautifulSoup(contenido, \"html.parser\")\n",
    "\n",
    "# Lista para almacenar los links de las noticias\n",
    "links = []\n",
    "\n",
    "# Extraemos los enlaces de las noticias. Buscamos todas las etiquetas <h2> (etiqueta que contiene los títulos y dentro de ella se encuentran los enlaces)\n",
    "for h2_element in soup.find_all(\"h2\"):  \n",
    "    link = h2_element.find(\"a\", href=True)  # Buscamos la etiqueta <a> dentro del <h2>. Usamos href que es el atributo de los enlaces <a> que contiene la URL.\n",
    "    \n",
    "    if link:  # Si existe <a> dentro de <h2>\n",
    "        href = link[\"href\"] \n",
    "        \n",
    "        # Verificamos que el enlace sea relativo y lo convertimos en absoluto\n",
    "        if href.startswith(\"/\"):\n",
    "            full_link = \"https://www.eldestapeweb.com\" + href  #Concatenamos el dominio de la página con la URL obtenida\n",
    "            links.append(full_link)  # Agregamos el link a la lista creada.\n",
    "\n",
    "# Creamos un DataFrame con los enlaces\n",
    "df = pd.DataFrame({\"Links\": links})\n",
    "\n",
    "# Exportamos los links a un archivo de Excel\n",
    "df.to_excel(\"noticias_eldestape.xlsx\", index=False)\n",
    "\n",
    "#Abrimos el archivo de Excel\n",
    "pd.read_excel(\"noticias_eldestape.xlsx\")\n"
   ]
  },
  {
   "cell_type": "code",
   "execution_count": null,
   "metadata": {},
   "outputs": [],
   "source": []
  }
 ],
 "metadata": {
  "anaconda-cloud": {},
  "colab": {
   "name": "TP1 - Parte 1.ipynb",
   "provenance": []
  },
  "kernelspec": {
   "display_name": "Python [conda env:base] *",
   "language": "python",
   "name": "conda-base-py"
  },
  "language_info": {
   "codemirror_mode": {
    "name": "ipython",
    "version": 3
   },
   "file_extension": ".py",
   "mimetype": "text/x-python",
   "name": "python",
   "nbconvert_exporter": "python",
   "pygments_lexer": "ipython3",
   "version": "3.12.7"
  }
 },
 "nbformat": 4,
 "nbformat_minor": 4
}
